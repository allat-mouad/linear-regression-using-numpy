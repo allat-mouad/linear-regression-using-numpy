{
 "cells": [
  {
   "cell_type": "code",
   "execution_count": 1,
   "metadata": {},
   "outputs": [],
   "source": [
    "import numpy as np\n",
    "from sklearn.datasets import make_regression\n",
    "import matplotlib.pyplot as plt"
   ]
  },
  {
   "cell_type": "code",
   "execution_count": 2,
   "metadata": {},
   "outputs": [],
   "source": [
    "x , y = make_regression(n_samples=100, n_features=1, noise =10)"
   ]
  },
  {
   "cell_type": "code",
   "execution_count": 3,
   "metadata": {},
   "outputs": [
    {
     "data": {
      "text/plain": [
       "<matplotlib.collections.PathCollection at 0x1ab363bc190>"
      ]
     },
     "execution_count": 3,
     "metadata": {},
     "output_type": "execute_result"
    },
    {
     "data": {
      "image/png": "[encoded data removed]",
      "text/plain": [
       "<Figure size 432x288 with 1 Axes>"
      ]
     },
     "metadata": {
      "needs_background": "light"
     },
     "output_type": "display_data"
    }
   ],
   "source": [
    "plt.scatter(x,y)"
   ]
  },
  {
   "cell_type": "code",
   "execution_count": 7,
   "metadata": {},
   "outputs": [
    {
     "name": "stdout",
     "output_type": "stream",
     "text": [
      "(100, 1)\n",
      "(100, 1)\n"
     ]
    }
   ],
   "source": [
    "print(x.shape)\n",
    "y=y.reshape(y.shape[0],1)\n",
    "print(y.shape)"
   ]
  },
  {
   "cell_type": "code",
   "execution_count": 10,
   "metadata": {},
   "outputs": [
    {
     "data": {
      "text/plain": [
       "array([[-0.28435371,  1.        ],\n",
       "       [-0.04623557,  1.        ],\n",
       "       [-0.97492177,  1.        ],\n",
       "       [-0.11644668,  1.        ],\n",
       "       [ 0.63425499,  1.        ],\n",
       "       [ 1.24791176,  1.        ],\n",
       "       [-0.18131903,  1.        ],\n",
       "       [-0.76078498,  1.        ],\n",
       "       [ 0.2370521 ,  1.        ],\n",
       "       [ 2.51414856,  1.        ],\n",
       "       [-0.04931964,  1.        ],\n",
       "       [-0.83524721,  1.        ],\n",
       "       [-0.66007564,  1.        ],\n",
       "       [-0.3406212 ,  1.        ],\n",
       "       [ 0.94706074,  1.        ],\n",
       "       [ 0.10020199,  1.        ],\n",
       "       [ 0.39949759,  1.        ],\n",
       "       [ 1.05073484,  1.        ],\n",
       "       [-1.35878348,  1.        ],\n",
       "       [ 1.5015457 ,  1.        ],\n",
       "       [-1.47049879,  1.        ],\n",
       "       [ 0.28671003,  1.        ],\n",
       "       [ 0.53226546,  1.        ],\n",
       "       [ 0.87165819,  1.        ],\n",
       "       [ 1.12667625,  1.        ],\n",
       "       [-1.60517755,  1.        ],\n",
       "       [ 1.06776581,  1.        ],\n",
       "       [ 1.6671609 ,  1.        ],\n",
       "       [ 0.23945434,  1.        ],\n",
       "       [-1.85453419,  1.        ],\n",
       "       [ 1.71057818,  1.        ],\n",
       "       [-0.12364591,  1.        ],\n",
       "       [-1.6430499 ,  1.        ],\n",
       "       [ 0.96960766,  1.        ],\n",
       "       [-0.08391803,  1.        ],\n",
       "       [-0.70723773,  1.        ],\n",
       "       [ 0.8401527 ,  1.        ],\n",
       "       [-0.50331686,  1.        ],\n",
       "       [-0.51309014,  1.        ],\n",
       "       [ 0.38464619,  1.        ],\n",
       "       [ 1.15742637,  1.        ],\n",
       "       [-0.50224855,  1.        ],\n",
       "       [-0.35480619,  1.        ],\n",
       "       [ 0.85661283,  1.        ],\n",
       "       [ 0.68579012,  1.        ],\n",
       "       [-0.32374645,  1.        ],\n",
       "       [-0.56234019,  1.        ],\n",
       "       [ 0.18821551,  1.        ],\n",
       "       [-0.76337181,  1.        ],\n",
       "       [ 0.33756268,  1.        ],\n",
       "       [ 0.76107683,  1.        ],\n",
       "       [-2.22338994,  1.        ],\n",
       "       [ 0.77545801,  1.        ],\n",
       "       [-1.3510297 ,  1.        ],\n",
       "       [ 0.2231683 ,  1.        ],\n",
       "       [ 0.78359127,  1.        ],\n",
       "       [ 0.86802344,  1.        ],\n",
       "       [-0.89389344,  1.        ],\n",
       "       [-1.3078983 ,  1.        ],\n",
       "       [ 1.28671929,  1.        ],\n",
       "       [-0.41885614,  1.        ],\n",
       "       [-0.20744883,  1.        ],\n",
       "       [-0.82803465,  1.        ],\n",
       "       [-1.42448969,  1.        ],\n",
       "       [-0.58052522,  1.        ],\n",
       "       [-0.05618479,  1.        ],\n",
       "       [-1.5136906 ,  1.        ],\n",
       "       [-0.40868598,  1.        ],\n",
       "       [ 0.61212859,  1.        ],\n",
       "       [ 0.42954146,  1.        ],\n",
       "       [ 0.09343475,  1.        ],\n",
       "       [-0.56147385,  1.        ],\n",
       "       [-1.09077269,  1.        ],\n",
       "       [ 1.01925435,  1.        ],\n",
       "       [-0.32314741,  1.        ],\n",
       "       [ 0.29591899,  1.        ],\n",
       "       [-0.28696647,  1.        ],\n",
       "       [-0.84109208,  1.        ],\n",
       "       [-0.62019645,  1.        ],\n",
       "       [ 0.91466878,  1.        ],\n",
       "       [ 0.72906483,  1.        ],\n",
       "       [ 0.52177213,  1.        ],\n",
       "       [-0.82780119,  1.        ],\n",
       "       [-0.8706297 ,  1.        ],\n",
       "       [-0.70845682,  1.        ],\n",
       "       [-0.38326048,  1.        ],\n",
       "       [-2.30614783,  1.        ],\n",
       "       [-1.48876543,  1.        ],\n",
       "       [ 0.87625876,  1.        ],\n",
       "       [-0.01586784,  1.        ],\n",
       "       [ 2.03773847,  1.        ],\n",
       "       [-0.40637167,  1.        ],\n",
       "       [ 0.22292426,  1.        ],\n",
       "       [-0.46517135,  1.        ],\n",
       "       [-0.19194894,  1.        ],\n",
       "       [ 0.76696747,  1.        ],\n",
       "       [-0.14869435,  1.        ],\n",
       "       [ 0.39880193,  1.        ],\n",
       "       [ 0.95268071,  1.        ],\n",
       "       [ 1.17870333,  1.        ]])"
      ]
     },
     "execution_count": 10,
     "metadata": {},
     "output_type": "execute_result"
    }
   ],
   "source": [
    "X = np.hstack((x, np.ones(x.shape)))\n",
    "X"
   ]
  },
  {
   "cell_type": "code",
   "execution_count": 11,
   "metadata": {},
   "outputs": [],
   "source": [
    "theta=np.random.randn(2,1)"
   ]
  },
  {
   "cell_type": "code",
   "execution_count": 12,
   "metadata": {},
   "outputs": [
    {
     "data": {
      "text/plain": [
       "array([[1.32888587],\n",
       "       [0.25420308]])"
      ]
     },
     "execution_count": 12,
     "metadata": {},
     "output_type": "execute_result"
    }
   ],
   "source": [
    "theta"
   ]
  },
  {
   "cell_type": "code",
   "execution_count": 13,
   "metadata": {},
   "outputs": [],
   "source": [
    "def model(X,theta):\n",
    "    return X.dot(theta)"
   ]
  },
  {
   "cell_type": "code",
   "execution_count": 14,
   "metadata": {},
   "outputs": [
    {
     "data": {
      "text/plain": [
       "array([[-1.23670545e-01],\n",
       "       [ 1.92761286e-01],\n",
       "       [-1.04135669e+00],\n",
       "       [ 9.94587365e-02],\n",
       "       [ 1.09705557e+00],\n",
       "       [ 1.91253538e+00],\n",
       "       [ 1.32507780e-02],\n",
       "       [-7.56793336e-01],\n",
       "       [ 5.69218263e-01],\n",
       "       [ 3.59521957e+00],\n",
       "       [ 1.88662903e-01],\n",
       "       [-8.55745136e-01],\n",
       "       [-6.22962118e-01],\n",
       "       [-1.98443614e-01],\n",
       "       [ 1.51273871e+00],\n",
       "       [ 3.87360089e-01],\n",
       "       [ 7.85089777e-01],\n",
       "       [ 1.65050976e+00],\n",
       "       [-1.55146509e+00],\n",
       "       [ 2.24958594e+00],\n",
       "       [-1.69992198e+00],\n",
       "       [ 6.35207986e-01],\n",
       "       [ 9.61523126e-01],\n",
       "       [ 1.41253733e+00],\n",
       "       [ 1.75142723e+00],\n",
       "       [-1.87889469e+00],\n",
       "       [ 1.67314197e+00],\n",
       "       [ 2.46966964e+00],\n",
       "       [ 5.72410570e-01],\n",
       "       [-2.21026121e+00],\n",
       "       [ 2.52736625e+00],\n",
       "       [ 8.98917714e-02],\n",
       "       [-1.92922272e+00],\n",
       "       [ 1.54270099e+00],\n",
       "       [ 1.42685589e-01],\n",
       "       [-6.85635147e-01],\n",
       "       [ 1.37067013e+00],\n",
       "       [-4.14647579e-01],\n",
       "       [-4.27635153e-01],\n",
       "       [ 7.65353963e-01],\n",
       "       [ 1.79229063e+00],\n",
       "       [-4.13227924e-01],\n",
       "       [-2.17293852e-01],\n",
       "       [ 1.39254376e+00],\n",
       "       [ 1.16553987e+00],\n",
       "       [-1.76018998e-01],\n",
       "       [-4.93082853e-01],\n",
       "       [ 5.04320006e-01],\n",
       "       [-7.60230932e-01],\n",
       "       [ 7.02785354e-01],\n",
       "       [ 1.26558732e+00],\n",
       "       [-2.70042839e+00],\n",
       "       [ 1.28469827e+00],\n",
       "       [-1.54116120e+00],\n",
       "       [ 5.50768282e-01],\n",
       "       [ 1.29550644e+00],\n",
       "       [ 1.40770716e+00],\n",
       "       [-9.33679281e-01],\n",
       "       [-1.48384449e+00],\n",
       "       [ 1.96410616e+00],\n",
       "       [-3.02408928e-01],\n",
       "       [-2.14727364e-02],\n",
       "       [-8.46160463e-01],\n",
       "       [-1.63878114e+00],\n",
       "       [-5.17248685e-01],\n",
       "       [ 1.79539905e-01],\n",
       "       [-1.75731896e+00],\n",
       "       [-2.88893950e-01],\n",
       "       [ 1.06765212e+00],\n",
       "       [ 8.25014652e-01],\n",
       "       [ 3.78367195e-01],\n",
       "       [-4.91931587e-01],\n",
       "       [-1.19530933e+00],\n",
       "       [ 1.60867578e+00],\n",
       "       [-1.75222950e-01],\n",
       "       [ 6.47445639e-01],\n",
       "       [-1.27142610e-01],\n",
       "       [-8.63512303e-01],\n",
       "       [-5.69967223e-01],\n",
       "       [ 1.46969349e+00],\n",
       "       [ 1.22304703e+00],\n",
       "       [ 9.47578691e-01],\n",
       "       [-8.45850221e-01],\n",
       "       [-9.02764431e-01],\n",
       "       [-6.87255173e-01],\n",
       "       [-2.55106353e-01],\n",
       "       [-2.81040418e+00],\n",
       "       [-1.72419626e+00],\n",
       "       [ 1.41865097e+00],\n",
       "       [ 2.33116538e-01],\n",
       "       [ 2.96212494e+00],\n",
       "       [-2.85818485e-01],\n",
       "       [ 5.50443982e-01],\n",
       "       [-3.63956552e-01],\n",
       "       [-8.75158146e-04],\n",
       "       [ 1.27341531e+00],\n",
       "       [ 5.66052596e-02],\n",
       "       [ 7.84165334e-01],\n",
       "       [ 1.52020701e+00],\n",
       "       [ 1.82056528e+00]])"
      ]
     },
     "execution_count": 14,
     "metadata": {},
     "output_type": "execute_result"
    }
   ],
   "source": [
    "model(X,theta)"
   ]
  },
  {
   "cell_type": "code",
   "execution_count": 17,
   "metadata": {},
   "outputs": [
    {
     "data": {
      "text/plain": [
       "[<matplotlib.lines.Line2D at 0x1ab37839550>]"
      ]
     },
     "execution_count": 17,
     "metadata": {},
     "output_type": "execute_result"
    },
    {
     "data": {
      "image/png": "[encoded data removed]",
      "text/plain": [
       "<Figure size 432x288 with 1 Axes>"
      ]
     },
     "metadata": {
      "needs_background": "light"
     },
     "output_type": "display_data"
    }
   ],
   "source": [
    "plt.scatter(x,y)\n",
    "plt.plot(x,model(X,theta),c='r')"
   ]
  },
  {
   "cell_type": "code",
   "execution_count": 21,
   "metadata": {},
   "outputs": [],
   "source": [
    "def cost_function(X,y,theta):\n",
    "    m=len(y)\n",
    "    return (1/(2*m))*np.sum((model(X,theta)-y)**2)"
   ]
  },
  {
   "cell_type": "code",
   "execution_count": 22,
   "metadata": {},
   "outputs": [
    {
     "data": {
      "text/plain": [
       "153.2317849773544"
      ]
     },
     "execution_count": 22,
     "metadata": {},
     "output_type": "execute_result"
    }
   ],
   "source": [
    "cost_function(X,y,theta)"
   ]
  },
  {
   "cell_type": "code",
   "execution_count": 23,
   "metadata": {},
   "outputs": [],
   "source": [
    "def grad(X,y,theta):\n",
    "    m=len(y)\n",
    "    return 1/m*X.T.dot(model(X,theta)-y)"
   ]
  },
  {
   "cell_type": "code",
   "execution_count": 33,
   "metadata": {},
   "outputs": [],
   "source": [
    "def gradient_descent(X ,y ,theta,learning_rate ,n_iterations ):\n",
    "    cost_history=np.zeros(n_iterations)\n",
    "    for i in range(0,n_iterations):\n",
    "        theta=theta-learning_rate*grad(X,y,theta)\n",
    "        cost_history[i]=cost_function(X,y,theta)\n",
    "        \n",
    "    \n",
    "    return theta,cost_history"
   ]
  },
  {
   "cell_type": "code",
   "execution_count": 34,
   "metadata": {},
   "outputs": [],
   "source": [
    "theta_final,cost_history=gradient_descent(X,y,theta,learning_rate=0.01,n_iterations=1000)"
   ]
  },
  {
   "cell_type": "code",
   "execution_count": 31,
   "metadata": {},
   "outputs": [
    {
     "data": {
      "text/plain": [
       "array([[16.45961706],\n",
       "       [-0.51245309]])"
      ]
     },
     "execution_count": 31,
     "metadata": {},
     "output_type": "execute_result"
    }
   ],
   "source": [
    "theta_final"
   ]
  },
  {
   "cell_type": "code",
   "execution_count": 32,
   "metadata": {},
   "outputs": [
    {
     "data": {
      "text/plain": [
       "[<matplotlib.lines.Line2D at 0x1ab387c4370>]"
      ]
     },
     "execution_count": 32,
     "metadata": {},
     "output_type": "execute_result"
    },
    {
     "data": {
      "image/png": "[encoded data removed]",
      "text/plain": [
       "<Figure size 432x288 with 1 Axes>"
      ]
     },
     "metadata": {
      "needs_background": "light"
     },
     "output_type": "display_data"
    }
   ],
   "source": [
    "predictions = model(X,theta_final)\n",
    "plt.scatter(x,y)\n",
    "plt.plot(x,predictions,c='r')"
   ]
  },
  {
   "cell_type": "code",
   "execution_count": 35,
   "metadata": {},
   "outputs": [
    {
     "data": {
      "text/plain": [
       "[<matplotlib.lines.Line2D at 0x1ab38809ca0>]"
      ]
     },
     "execution_count": 35,
     "metadata": {},
     "output_type": "execute_result"
    },
    {
     "data": {
      "image/png": "[encoded data removed]",
      "text/plain": [
       "<Figure size 432x288 with 1 Axes>"
      ]
     },
     "metadata": {
      "needs_background": "light"
     },
     "output_type": "display_data"
    }
   ],
   "source": [
    "plt.plot(range(1000),cost_history)"
   ]
  },
  {
   "cell_type": "code",
   "execution_count": 36,
   "metadata": {},
   "outputs": [],
   "source": [
    "def coef_determination(y,pred):\n",
    "    u=((y-pred)**2).sum()\n",
    "    v=((y-y.mean())**2).sum()\n",
    "    return 1-u/v\n",
    "    "
   ]
  },
  {
   "cell_type": "code",
   "execution_count": 38,
   "metadata": {},
   "outputs": [
    {
     "data": {
      "text/plain": [
       "0.6969523807673557"
      ]
     },
     "execution_count": 38,
     "metadata": {},
     "output_type": "execute_result"
    }
   ],
   "source": [
    "coef_determination(y,predictions)"
   ]
  },
  {
   "cell_type": "code",
   "execution_count": null,
   "metadata": {},
   "outputs": [],
   "source": []
  }
 ],
 "metadata": {
  "kernelspec": {
   "display_name": "Python 3",
   "language": "python",
   "name": "python3"
  },
  "language_info": {
   "codemirror_mode": {
    "name": "ipython",
    "version": 3
   },
   "file_extension": ".py",
   "mimetype": "text/x-python",
   "name": "python",
   "nbconvert_exporter": "python",
   "pygments_lexer": "ipython3",
   "version": "3.8.5"
  }
 },
 "nbformat": 4,
 "nbformat_minor": 4
}
